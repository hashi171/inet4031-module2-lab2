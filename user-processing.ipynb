{
 "cells": [
  {
   "cell_type": "code",
   "execution_count": 1,
   "id": "322eb4d1-30eb-4c90-a5bd-3cd9a229a133",
   "metadata": {},
   "outputs": [
    {
     "name": "stdout",
     "output_type": "stream",
     "text": [
      "\n",
      "list-of-users was read.\n"
     ]
    },
    {
     "name": "stdin",
     "output_type": "stream",
     "text": [
      "\n",
      "Do you want to print out the list of users? (Y or N) Y\n"
     ]
    },
    {
     "name": "stdout",
     "output_type": "stream",
     "text": [
      "\n",
      " dwash1:abc123:Washington:Denzel:administrators\n",
      "\n",
      "\n",
      " brpit2:abc123:Pitt:Brad:users\n",
      "\n",
      "\n",
      " tcook1:abc123:Tim:Cook:managers\n",
      "\n",
      "\n",
      " byonce:abc123:Knowles-Carter:Beyonce:administrators,queens\n",
      "\n",
      "End of User Processing\n",
      "\n"
     ]
    }
   ],
   "source": [
    "# INET4031 Module 1\n",
    "#\n",
    "# User List Processing Program\n",
    "#\n",
    "# Created: Nov 11, 2024\n",
    "# Updated: Jan 6, 2025\n",
    "#\n",
    "\n",
    "def main():\n",
    "\n",
    "    #open the user list file\n",
    "    try:\n",
    "\n",
    "        userFile = open(\"list-of-users.txt\", \"r\")\n",
    "\n",
    "    except:\n",
    "        print(\"\\nCould not read the file specified.\\n\")\n",
    "        exit()\n",
    "\n",
    "    #load the lines of the file into a list\n",
    "    listOfUsers = userFile.readlines()\n",
    "    print(\"\\nlist-of-users was read.\")\n",
    "\n",
    "    #ask the user to proceed\n",
    "    answer = input(\"\\nDo you want to print out the list of users? (Y or N)\")\n",
    "\n",
    "    if answer == \"Y\" or answer == \"y\":\n",
    "\n",
    "        for userline in listOfUsers:\n",
    "            print(\"\\n\", userline)\n",
    "\n",
    "    else:\n",
    "\n",
    "        print(\"\\nOk not printing, ending program.\")\n",
    "\n",
    "    print(\"\\nEnd of User Processing\\n\")\n",
    "\n",
    "main()\n",
    "\n",
    "\n"
   ]
  },
  {
   "cell_type": "code",
   "execution_count": null,
   "id": "595629d5-a190-4a53-a7a7-615e3b0a6c13",
   "metadata": {},
   "outputs": [],
   "source": []
  }
 ],
 "metadata": {
  "kernelspec": {
   "display_name": "Python 3 (ipykernel)",
   "language": "python",
   "name": "python3"
  },
  "language_info": {
   "codemirror_mode": {
    "name": "ipython",
    "version": 3
   },
   "file_extension": ".py",
   "mimetype": "text/x-python",
   "name": "python",
   "nbconvert_exporter": "python",
   "pygments_lexer": "ipython3",
   "version": "3.13.7"
  }
 },
 "nbformat": 4,
 "nbformat_minor": 5
}
